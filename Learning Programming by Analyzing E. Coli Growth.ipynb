{
 "cells": [
  {
   "cell_type": "markdown",
   "metadata": {},
   "source": [
    "# An introduction to programming by analyzing *E. coli* populations\n",
    "\n",
    "As an introduction to programming today, you are going to be making a slightly cleaned up example of a script I wrote for lab. This way we can go over the basics of programming with a real example so you can see that you can get useful things done with even a little programming.\n",
    "\n",
    "You want to measure the growth rate of the bacteria *E. coli* grown in various concentrations of an antibiotic, Chloramphenicol. *E. coli* are grown in a liquid broth with antibiotic. We expect that *E. coli* populations will initially grow exponentially, but that the rate of this growth will decline as the antibiotic concentration increases.\n",
    "\n",
    "The *E. coli* population can be measured by how much light they absorb. An automated instrument has been used to record the absorbance of *E. coli* cultures over time at various antibiotic concentrations. I've already collected the data, but you need to analyze it.\n",
    "\n",
    "## Storing variables, performing arithmetic, and printing text\n",
    "\n",
    "You have a spreadsheet of data created by the instrument for measuring the density of cultures of e. coli over time. This spreadsheet is \"MG1655 Chloramphenicol 10 Feb averages simplified sheet.csv\". This is a plain text file, but it's easier to understand when viewed in Excel or Libreoffice Calc. Please open the file now in your spreadsheet program. The top row of the file is the times at which the measurements were taken. Each row afterwards is the optical density of an e coli sample over time.\n",
    "\n",
    "Looking at the file you'll notice a few things. There are no units recorded, so I have to tell you. The times in the top row are in seconds. *E. coli* have growth rates on the order of hours not seconds. You decide you're going to need to convert the seconds to hours.\n",
    "\n",
    "***\n",
    "\n",
    "#### Storing values in variables\n",
    "\n",
    "You can save values for later and name them in python by writing code like <code> x = 3 </code>. Later in the code, x is another name for 3. Python also has basic arithmetic built-in. This includes addition, subtraction, multiplication, division, modulo, and power. You can do them like so"
   ]
  },
  {
   "cell_type": "code",
   "execution_count": 1,
   "metadata": {},
   "outputs": [
    {
     "name": "stdout",
     "output_type": "stream",
     "text": [
      "x = 3\n",
      "y = 0.5\n",
      "x + y = 3.5\n",
      "x - y = 2.5\n",
      "x * y = 1.5\n",
      "x / y = 6.0\n",
      "x mod y = 0.0\n",
      "x ^ y = 1.7320508075688772\n"
     ]
    }
   ],
   "source": [
    "x = 3\n",
    "y = .5\n",
    "addition_result = x + y\n",
    "subtraction_result = x - y\n",
    "multiplication_result = x * y\n",
    "division_result = x / y\n",
    "modulo_result = x % y # the modulo operator in python is %\n",
    "exponentiation_result = x**y # to take x to the power y in python you write **\n",
    "print('x =', x)\n",
    "print('y =', y)\n",
    "print('x + y =', addition_result)\n",
    "print('x - y =', subtraction_result)\n",
    "print('x * y =', multiplication_result)\n",
    "print('x / y =', division_result)\n",
    "print('x mod y =', modulo_result)\n",
    "print('x ^ y =', exponentiation_result)"
   ]
  },
  {
   "cell_type": "markdown",
   "metadata": {},
   "source": [
    "There are a few things to explain here. \n",
    "\n",
    "1. Although names like \"x\" are acceptable for variables sometimes, *you should usually give your variables names that help you or someone else understand their purpose*.\n",
    "2. The **#** sign tells Python to ignore any text starting at the # sign and until the next return. This text doesn't mean anything in Python. It's so you can embed explanations of what you are doing in your code. These are called comments. You shouldn't comment every line, but you should do it whenever something would be unclear to someone reading your code- _**especially yourself 6 months later!**_ Here I've commented the arithmetic operations where python uses symbols for them that are not the mathematical standard.\n",
    "3. \"print\" is a Python **function**. Python functions are like mathematical functions in that they take some inputs (sometimes 0 inputs) and produce some outputs. You can write code once for a function then easily reuse it whenever you need it. The \"print\" function outputs text. It is extremely useful. It lets you send messages to people using your programs and helps you inspect and debug your programs.\n",
    "4. The letters inside ' ' are **strings**. Strings are text. Python has many datatypes, but some of the most basic and important ones are **integers** (mathematical integers), **floats** (a finite precision approximation of real numbers), and **strings** (text). The print function will print most characters in strings as you see them in the string. The print function prints the value of variables. And you can put multiple things together with print by separating them with commas.\n",
    "\n",
    "***\n",
    "\n",
    "#### <span style=\"color:blue\">Exercise 1</span>\n",
    "\n",
    "Now using what you have learned, make a variable storing the value of the number of seconds per hour so we can use this number later to convert the time in seconds in the spreadsheet to hours. Whether or not you know or can calculate the number of seconds per hour, be selectively lazy and have python calculate its value for you from the number of seconds per minute and the number of minutes per hour. Use descriptive variable names. Then output some text stating how many seconds there are per hour; do not print just the value print words too so someone can see what unit conversion you have calculated."
   ]
  },
  {
   "cell_type": "code",
   "execution_count": 2,
   "metadata": {},
   "outputs": [
    {
     "name": "stdout",
     "output_type": "stream",
     "text": [
      "There are 3600 seconds per hour.\n"
     ]
    }
   ],
   "source": [
    "seconds_per_minute = 60\n",
    "minutes_per_hour = 60\n",
    "seconds_per_hour = seconds_per_minute * minutes_per_hour\n",
    "print('There are', seconds_per_hour, 'seconds per hour.')"
   ]
  },
  {
   "cell_type": "markdown",
   "metadata": {},
   "source": [
    "***\n",
    "## Python libraries and Numpy\n",
    "\n",
    "Since you're going to be working with numerical data, you're going to want to use more tools than Python's core. An important part of coding is being able to use others' code to do various tasks so you don't have to program from scratch. But it's also important to keep code organized and not have your programs load everything and the kitchen sink when you only need one thing. Python code for a particular set of tasks is called a **module**. You can load python modules or your own files with the keyword **import**. You are now going to load the python math module **numpy**.\n",
    "\n",
    "In order to access code from a module you must first put the module name followed by a \".\" then the name of what you want to access. Because programmers are lazy, we don't want to have to type \"numpy\" every time we want to use a numpy function. Instead we can give it a shorter alias; by convention this alias is \"np\". So whenver you are going to use something from numpy you'll type \"np.thing\". Modules may also have submodules to further organize them or in case you only want a submodule, so sometimes you'll type \"module.submodule.thing\"."
   ]
  },
  {
   "cell_type": "code",
   "execution_count": 3,
   "metadata": {
    "collapsed": true
   },
   "outputs": [],
   "source": [
    "import numpy as np"
   ]
  },
  {
   "cell_type": "markdown",
   "metadata": {},
   "source": [
    "#### A brief intro to numpy"
   ]
  },
  {
   "cell_type": "markdown",
   "metadata": {},
   "source": [
    "Numpy has a special new datatype, a numpy array. Arrays are collections of numbers arranged in lines, rectangles, cubes, etc. You can think of a 1-dimensional array as being like a vector, a 2-dimensional array as being a matrix, etc. When using a new library, you'll often need to read documentation to understand it. Numpy has a detailed user guide here https://docs.scipy.org/doc/numpy-1.13.0/user/index.html#user. If you have a specific question though, google is probably faster than searching the docs directly. Sometimes though you just want to know what a functions inputs are or what it does. Python modules and functions have documentation built-in. You can access the documentation by writing the module or function name followed by .\\_\\_doc\\_\\_ . You'll want to use the print function to output this text so it is formatted for reading."
   ]
  },
  {
   "cell_type": "code",
   "execution_count": 4,
   "metadata": {},
   "outputs": [
    {
     "name": "stdout",
     "output_type": "stream",
     "text": [
      "\n",
      "NumPy\n",
      "=====\n",
      "\n",
      "Provides\n",
      "  1. An array object of arbitrary homogeneous items\n",
      "  2. Fast mathematical operations over arrays\n",
      "  3. Linear Algebra, Fourier Transforms, Random Number Generation\n",
      "\n",
      "How to use the documentation\n",
      "----------------------------\n",
      "Documentation is available in two forms: docstrings provided\n",
      "with the code, and a loose standing reference guide, available from\n",
      "`the NumPy homepage <http://www.scipy.org>`_.\n",
      "\n",
      "We recommend exploring the docstrings using\n",
      "`IPython <http://ipython.scipy.org>`_, an advanced Python shell with\n",
      "TAB-completion and introspection capabilities.  See below for further\n",
      "instructions.\n",
      "\n",
      "The docstring examples assume that `numpy` has been imported as `np`::\n",
      "\n",
      "  >>> import numpy as np\n",
      "\n",
      "Code snippets are indicated by three greater-than signs::\n",
      "\n",
      "  >>> x = 42\n",
      "  >>> x = x + 1\n",
      "\n",
      "Use the built-in ``help`` function to view a function's docstring::\n",
      "\n",
      "  >>> help(np.sort)\n",
      "  ... # doctest: +SKIP\n",
      "\n",
      "For some objects, ``np.info(obj)`` may provide additional help.  This is\n",
      "particularly true if you see the line \"Help on ufunc object:\" at the top\n",
      "of the help() page.  Ufuncs are implemented in C, not Python, for speed.\n",
      "The native Python help() does not know how to view their help, but our\n",
      "np.info() function does.\n",
      "\n",
      "To search for documents containing a keyword, do::\n",
      "\n",
      "  >>> np.lookfor('keyword')\n",
      "  ... # doctest: +SKIP\n",
      "\n",
      "General-purpose documents like a glossary and help on the basic concepts\n",
      "of numpy are available under the ``doc`` sub-module::\n",
      "\n",
      "  >>> from numpy import doc\n",
      "  >>> help(doc)\n",
      "  ... # doctest: +SKIP\n",
      "\n",
      "Available subpackages\n",
      "---------------------\n",
      "doc\n",
      "    Topical documentation on broadcasting, indexing, etc.\n",
      "lib\n",
      "    Basic functions used by several sub-packages.\n",
      "random\n",
      "    Core Random Tools\n",
      "linalg\n",
      "    Core Linear Algebra Tools\n",
      "fft\n",
      "    Core FFT routines\n",
      "polynomial\n",
      "    Polynomial tools\n",
      "testing\n",
      "    NumPy testing tools\n",
      "f2py\n",
      "    Fortran to Python Interface Generator.\n",
      "distutils\n",
      "    Enhancements to distutils with support for\n",
      "    Fortran compilers support and more.\n",
      "\n",
      "Utilities\n",
      "---------\n",
      "test\n",
      "    Run numpy unittests\n",
      "show_config\n",
      "    Show numpy build configuration\n",
      "dual\n",
      "    Overwrite certain functions with high-performance Scipy tools\n",
      "matlib\n",
      "    Make everything matrices.\n",
      "__version__\n",
      "    NumPy version string\n",
      "\n",
      "Viewing documentation using IPython\n",
      "-----------------------------------\n",
      "Start IPython with the NumPy profile (``ipython -p numpy``), which will\n",
      "import `numpy` under the alias `np`.  Then, use the ``cpaste`` command to\n",
      "paste examples into the shell.  To see which functions are available in\n",
      "`numpy`, type ``np.<TAB>`` (where ``<TAB>`` refers to the TAB key), or use\n",
      "``np.*cos*?<ENTER>`` (where ``<ENTER>`` refers to the ENTER key) to narrow\n",
      "down the list.  To view the docstring for a function, use\n",
      "``np.cos?<ENTER>`` (to view the docstring) and ``np.cos??<ENTER>`` (to view\n",
      "the source code).\n",
      "\n",
      "Copies vs. in-place operation\n",
      "-----------------------------\n",
      "Most of the functions in `numpy` return a copy of the array argument\n",
      "(e.g., `np.sort`).  In-place versions of these functions are often\n",
      "available as array methods, i.e. ``x = np.array([1,2,3]); x.sort()``.\n",
      "Exceptions to this rule are documented.\n",
      "\n",
      "\n"
     ]
    }
   ],
   "source": [
    "print(np.__doc__)"
   ]
  },
  {
   "cell_type": "markdown",
   "metadata": {},
   "source": [
    "Jupyter notebooks also have a helpful feature for discovering what's in a module. Whenver you're typing, if you hit tab, you'll see a list of suggested possible python variables, names, etc that will complete your current word. So if you are wondering if numpy has an exponential function you can type \"np.exp\" then hit tab. You'll get a dropdown list that contains a function called \"np.exp\". If you want to know more about this function then combine this with the above tip. type \"print(np.exp.\\_\\_doc\\_\\_)\" in a cell and see what it does.\n",
    "\n",
    "Numpy comes with functions for specifying certain common arrays like arrays of all 0's or all 1's or a vector of integers. It also has a syntax for inputting arbitrary arrays."
   ]
  },
  {
   "cell_type": "code",
   "execution_count": 5,
   "metadata": {},
   "outputs": [
    {
     "name": "stdout",
     "output_type": "stream",
     "text": [
      "zeros is\n",
      "[[ 0.  0.  0.]\n",
      " [ 0.  0.  0.]\n",
      " [ 0.  0.  0.]]\n",
      "ones is\n",
      "[[ 1.  1.  1.]\n",
      " [ 1.  1.  1.]\n",
      " [ 1.  1.  1.]]\n",
      "one_to_three is [1 2 3]\n",
      "array_1d is [2 8 6]\n",
      "array_2d is\n",
      "[[  3.3  -7.    1. ]\n",
      " [  2.1  45.    3. ]\n",
      " [  0.9  23.    1. ]]\n"
     ]
    }
   ],
   "source": [
    "zeros = np.zeros((3,3))\n",
    "ones = np.ones((3,3))\n",
    "one_to_three = np.arange(1,4) #this array will start at 1 and stop at the integer before 4\n",
    "array_1d = np.array([2, 8, 6])\n",
    "array_2d = np.array([[3.3, -7, 1],\n",
    "                     [2.1, 45, 3],\n",
    "                     [0.9, 23, 1]]) \n",
    "print('zeros is')\n",
    "print(zeros)\n",
    "print('ones is')\n",
    "print(ones)\n",
    "print('one_to_three is', one_to_three)\n",
    "print('array_1d is', array_1d)\n",
    "print('array_2d is')\n",
    "print(array_2d)"
   ]
  },
  {
   "cell_type": "markdown",
   "metadata": {},
   "source": [
    "Numpy arrays can be added, subtracted, multiplied, etc. with the regular python operators. This works elementwise. So don't use the multiplication sign * if you want to do matrix multiplication with 2-dimensional numpy arrays."
   ]
  },
  {
   "cell_type": "code",
   "execution_count": 6,
   "metadata": {},
   "outputs": [
    {
     "name": "stdout",
     "output_type": "stream",
     "text": [
      "array_1d + one_to_three = [ 3 10  9]\n",
      "array_1d * one_three [ 2 16 18]\n",
      "2 times array_1d is [ 4 16 12]\n"
     ]
    }
   ],
   "source": [
    "print('array_1d + one_to_three =', array_1d + one_to_three)\n",
    "print('array_1d * one_three', array_1d * one_to_three)\n",
    "print('2 times array_1d is', 2 * array_1d)"
   ]
  },
  {
   "cell_type": "markdown",
   "metadata": {},
   "source": [
    "You can pick single elements from a numpy array and take subsets (called \"slices\") of numpy arrays. Numpy arrays are indexed *starting from 0*. You can take subsets of them by putting [] after the array and putting in the index you want to start from then a colon then *one index after* you want to stop. This is a little bit strange and may take some getting used to. The first index is included in the slice, but the very last index is not. If a numpy array has multiple dimensions, then the indexes for each dimension are separated by a comma. It's similar to matrix notation except indexing starts from 0 instead of 1. If you want to grab all of a dimension just put a colon with no numbers. This is all a bit arbitrary so maybe some examples will help. Study them carefully!"
   ]
  },
  {
   "cell_type": "code",
   "execution_count": 7,
   "metadata": {},
   "outputs": [
    {
     "name": "stdout",
     "output_type": "stream",
     "text": [
      "The first element of array_1d is 2\n",
      "The upper left of array_2d is\n",
      "[[  3.3  -7. ]\n",
      " [  2.1  45. ]]\n",
      "The lower right of array_2d is\n",
      "[[ 45.   3.]\n",
      " [ 23.   1.]]\n",
      "The first column of array_2d is [ 3.3  2.1  0.9]\n",
      "The last row of array_2d is [  0.9  23.    1. ]\n"
     ]
    }
   ],
   "source": [
    "print('The first element of array_1d is', array_1d[0])\n",
    "print('The upper left of array_2d is')\n",
    "print(array_2d[0:2,0:2])\n",
    "print('The lower right of array_2d is')\n",
    "print(array_2d[1:3,1:3])\n",
    "print('The first column of array_2d is', array_2d[:,0])\n",
    "print('The last row of array_2d is', array_2d[2,:])"
   ]
  },
  {
   "cell_type": "markdown",
   "metadata": {},
   "source": [
    "Numpy also comes with function from loading data from a textfile into a numpy array. Let's finally load the data from the spreadsheet into python."
   ]
  },
  {
   "cell_type": "code",
   "execution_count": 8,
   "metadata": {
    "collapsed": true
   },
   "outputs": [],
   "source": [
    "data = np.loadtxt(fname='MG1655 Chloramphenicol 10 Feb averages ultra simplified sheet.csv', delimiter=',')"
   ]
  },
  {
   "cell_type": "markdown",
   "metadata": {},
   "source": [
    "***\n",
    "#### <span style=\"color:blue\">Exercise 2</span>\n",
    "\n",
    "The top row of the spreadsheet (and thus the numpy array data) is the times in seconds the measurements were taken at. Take the top row of the data and make a new variable called \"time\" which is that row but with the times in hours instead of seconds (remember exercise 1?). Look at \"time\". How long did the experiment last? How often were measurements taken?"
   ]
  },
  {
   "cell_type": "code",
   "execution_count": 9,
   "metadata": {},
   "outputs": [
    {
     "name": "stdout",
     "output_type": "stream",
     "text": [
      "[  0.           0.21972222   0.43944444   0.65916667   0.87888889\n",
      "   1.09861111   1.31833333   1.53805556   1.75777778   1.9775       2.19722222\n",
      "   2.41694444   2.63666667   2.85666667   3.07638889   3.29611111\n",
      "   3.51583333   3.73555556   3.95527778   4.175        4.39472222\n",
      "   4.61444444   4.83416667   5.05388889   5.27361111   5.49333333\n",
      "   5.71305556   5.93277778   6.1525       6.37222222   6.59194444\n",
      "   6.81166667   7.03138889   7.25111111   7.47083333   7.69055556\n",
      "   7.91027778   8.13         8.34972222   8.56944444   8.78916667\n",
      "   9.00888889   9.22861111   9.44833333   9.66805556   9.88777778  10.1075\n",
      "  10.32722222  10.54694444  10.76666667  10.98638889  11.20611111\n",
      "  11.42583333  11.64555556  11.86527778  12.085       12.30472222\n",
      "  12.52444444  12.74416667  12.96388889  13.18388889  13.40361111\n",
      "  13.62333333  13.84305556  14.06277778  14.2825      14.50222222\n",
      "  14.72194444  14.94166667  15.16138889  15.38111111  15.60083333\n",
      "  15.82055556  16.04027778  16.26        16.47972222  16.69944444\n",
      "  16.91916667  17.13888889  17.35861111  17.57833333  17.79805556\n",
      "  18.01777778  18.2375      18.45722222  18.67694444  18.89666667\n",
      "  19.11638889  19.33611111  19.55583333  19.77555556  19.99527778  20.215\n",
      "  20.43472222  20.65444444  20.87416667  21.09388889  21.31361111\n",
      "  21.53333333  21.75305556  21.97277778  22.1925      22.41222222\n",
      "  22.63194444  22.85166667  23.07138889  23.29111111  23.51083333\n",
      "  23.73055556  23.95027778]\n"
     ]
    }
   ],
   "source": [
    "time = data[0,:]/seconds_per_hour\n",
    "print(time)"
   ]
  },
  {
   "cell_type": "markdown",
   "metadata": {},
   "source": [
    "***\n",
    "## Plotting data and loops\n",
    "\n",
    "Next take another row of data and set it equal to a new variable we'll call \"example_growth_curve\"."
   ]
  },
  {
   "cell_type": "code",
   "execution_count": 10,
   "metadata": {
    "collapsed": true
   },
   "outputs": [],
   "source": [
    "example_growth_curve = data[1,:]"
   ]
  },
  {
   "cell_type": "markdown",
   "metadata": {},
   "source": [
    "Let's plot this data. To do this, we're going to import another python library and tell the jupyter notebook to place plots in the notebook (that's the line with the %)"
   ]
  },
  {
   "cell_type": "code",
   "execution_count": 11,
   "metadata": {
    "collapsed": true
   },
   "outputs": [],
   "source": [
    "import matplotlib.pyplot as plt\n",
    "%matplotlib inline"
   ]
  },
  {
   "cell_type": "markdown",
   "metadata": {},
   "source": [
    "Matplotlib is the most common python plotting library. For simple 2-dimensional plots, you usually only need part the pyplot subset of the whole library. By convention, \"matplotlib.pyplot\" is imported with the alias \"plt\". The syntax for plotting y as a function of x simply <code>plt.plot(x,y)</code>. You should plot a row of the absorbance data vs time. I've added a couple lines after to add labels to the axis."
   ]
  },
  {
   "cell_type": "code",
   "execution_count": 26,
   "metadata": {},
   "outputs": [
    {
     "data": {
      "image/png": "[encoded data removed]",
      "text/plain": [
       "<matplotlib.figure.Figure at 0x8471fd0>"
      ]
     },
     "metadata": {},
     "output_type": "display_data"
    }
   ],
   "source": [
    "plt.plot(time,example_growth_curve); #semicolons suppress some text output that we don't want, feel free to remove to see text"
   ]
  },
  {
   "cell_type": "markdown",
   "metadata": {},
   "source": [
    "The plot above looks ok, but it would be nice to have our axes be labeled. That can be done with the plt.xlabel and plt.ylabel functions."
   ]
  },
  {
   "cell_type": "code",
   "execution_count": 27,
   "metadata": {},
   "outputs": [
    {
     "data": {
      "image/png": "[encoded data removed]",
      "text/plain": [
       "<matplotlib.figure.Figure at 0x7f7c2e8>"
      ]
     },
     "metadata": {},
     "output_type": "display_data"
    }
   ],
   "source": [
    "plt.plot(time,example_growth_curve); #semicolons suppress some text output that we don't want, feel free to remove to see text\n",
    "plt.xlabel('time (hours)');\n",
    "plt.ylabel('absorbance');"
   ]
  },
  {
   "cell_type": "markdown",
   "metadata": {},
   "source": [
    "Now the plot looks pretty good, but ideally we'd like to look at plots of all our data. We can plot more than one line in our plot by copy pasting the above code and changing the index of the row we want to plot as the y data."
   ]
  },
  {
   "cell_type": "code",
   "execution_count": 28,
   "metadata": {},
   "outputs": [
    {
     "data": {
      "image/png": "[encoded data removed]",
      "text/plain": [
       "<matplotlib.figure.Figure at 0x871eda0>"
      ]
     },
     "metadata": {},
     "output_type": "display_data"
    }
   ],
   "source": [
    "plt.plot(time,data[1,:]);\n",
    "plt.plot(time,data[2,:]);\n",
    "plt.plot(time,data[3,:]);\n",
    "plt.plot(time,data[4,:]);\n",
    "plt.plot(time,data[5,:]);\n",
    "plt.plot(time,data[6,:]);\n",
    "plt.xlabel('time (hours)');\n",
    "plt.ylabel('absorbance');"
   ]
  },
  {
   "cell_type": "markdown",
   "metadata": {},
   "source": [
    "This graph has two problems. One is that we can't easily figure out which line corresponds to which data. The second is that copy pasting code over and over with tiny changes is inefficient when done 6 times, painful when done 60 times, and impossible when done 6000 times.\n",
    "\n",
    "Let's deal with the second problem first.\n",
    "\n",
    "Having to repetitively apply the same operation over and over is a common problem in programming. To help with this, Python has a construct called a <code>for</code> loop. For some collection of items, a for loop will perform the same task for each item in the collection. The syntax of a for loop is to first write\n",
    "\n",
    "<code>for items in collection:</code>\n",
    "\n",
    "where items can be any word you like that isn't already a Python keyword and collection is a python variable (that is in some sense a collection of things), then on the next line indent by four spaces and tell python what you want it to do for each item in the collection. For example, if you wanted to print the numbers 0 through 9 you could type"
   ]
  },
  {
   "cell_type": "code",
   "execution_count": 14,
   "metadata": {},
   "outputs": [
    {
     "name": "stdout",
     "output_type": "stream",
     "text": [
      "0123456789"
     ]
    }
   ],
   "source": [
    "for i in [0,1,2,3,4,5,6,7,8,9]:\n",
    "    print(i, end='') # end='' tells print to not go to a newline after finishing printing text."
   ]
  },
  {
   "cell_type": "markdown",
   "metadata": {},
   "source": [
    "The brackets around the numbers above make a list. A list is just a list of other python stuff, a list can be filled with any arbitrary combination of stuff. Generating a list by manually typing in its contents can take a while though.\n",
    "\n",
    "In fact, looping through integers is so common it has its own function"
   ]
  },
  {
   "cell_type": "code",
   "execution_count": 15,
   "metadata": {},
   "outputs": [
    {
     "name": "stdout",
     "output_type": "stream",
     "text": [
      "0123456789"
     ]
    }
   ],
   "source": [
    "for i in range(0,10):\n",
    "    print(i, end='') # end='' tells print to not go to a newline after finishing printing text."
   ]
  },
  {
   "cell_type": "markdown",
   "metadata": {},
   "source": [
    "Notice that it works the same way as numpy arrays. 0 is included in the loop but 10 is not. The loop stops right before 10."
   ]
  },
  {
   "cell_type": "markdown",
   "metadata": {},
   "source": [
    "***\n",
    "#### <span style=\"color:blue\">Exercise 3</span>\n",
    "\n",
    "Use a for loop to plot all your rows of data in one plot."
   ]
  },
  {
   "cell_type": "code",
   "execution_count": 30,
   "metadata": {},
   "outputs": [
    {
     "data": {
      "image/png": "[encoded data removed]",
      "text/plain": [
       "<matplotlib.figure.Figure at 0x898de80>"
      ]
     },
     "metadata": {},
     "output_type": "display_data"
    }
   ],
   "source": [
    "for i in range(1,7):\n",
    "    plt.plot(time,data[i,:])\n",
    "plt.xlabel('time (hours)');\n",
    "plt.ylabel('absorbance');"
   ]
  },
  {
   "cell_type": "markdown",
   "metadata": {},
   "source": [
    "***"
   ]
  },
  {
   "cell_type": "code",
   "execution_count": 17,
   "metadata": {
    "collapsed": true
   },
   "outputs": [],
   "source": [
    "def subtractBaseline(array):\n",
    "    return array - .99*np.min(array)\n",
    "\n",
    "def windowedLineFit(x,y,start,stop):\n",
    "    m, b = np.polyfit(x[start:stop],y[start:stop],1)\n",
    "    return m, b"
   ]
  },
  {
   "cell_type": "code",
   "execution_count": null,
   "metadata": {
    "collapsed": true
   },
   "outputs": [],
   "source": []
  }
 ],
 "metadata": {
  "kernelspec": {
   "display_name": "Python 3",
   "language": "python",
   "name": "python3"
  },
  "language_info": {
   "codemirror_mode": {
    "name": "ipython",
    "version": 3
   },
   "file_extension": ".py",
   "mimetype": "text/x-python",
   "name": "python",
   "nbconvert_exporter": "python",
   "pygments_lexer": "ipython3",
   "version": "3.6.1"
  }
 },
 "nbformat": 4,
 "nbformat_minor": 1
}
