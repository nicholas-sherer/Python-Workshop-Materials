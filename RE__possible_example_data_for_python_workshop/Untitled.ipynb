{
 "cells": [
  {
   "cell_type": "markdown",
   "metadata": {},
   "source": [
    "# An introduction to programming by analyzing *E. coli* populations\n",
    "\n",
    "As an introduction to programming today, you are going to be making a slightly cleaned up example of a script I wrote for lab. This way we can go over the basics of programming with a real life example so you can see that you can get useful things done with even a little programming.\n",
    "\n",
    "You want to measure the growth rate of the bacteria *E. coli* grown in various concentrations of an antibiotic, Chloramphenicol. *E. coli* are grown in a liquid broth with antibiotic. We expect that *E. coli* populations will initially grow exponentially, but that the rate of this growth will decline as the antibiotic concentration increases.\n",
    "\n",
    "The *E. coli* population can be measured by how much light they absorb. An automated instrument has been used to record the absorbance of *E. coli* cultures over time at various antibiotic concentrations. I've already collected the data, but you need to analyze it."
   ]
  },
  {
   "cell_type": "markdown",
   "metadata": {},
   "source": [
    "# Importing data into Python and storing variables\n",
    "\n",
    "You have a spreadsheet of data created by the instrument for measuring the density of cultures of e. coli over time. This spreadsheet is \"MG1655 Chloramphenicol 5 Feb averages simplified sheet.csv\". This is a plain text file, but it's easier to understand when viewed in Excel or Libreoffice Calc. Please open the file now in your spreadsheet program. The top row of the file is the times at which the measurements were taken. Each row afterwards is the optical density of an e coli sample over time.\n",
    "\n",
    "Looking at the file you'll notice a few things. There are no units recorded, so I have to tell you. The times in the top row are in seconds."
   ]
  },
  {
   "cell_type": "code",
   "execution_count": null,
   "metadata": {
    "collapsed": true
   },
   "outputs": [],
   "source": [
    "seconds_per_hour ="
   ]
  },
  {
   "cell_type": "code",
   "execution_count": 1,
   "metadata": {
    "collapsed": true
   },
   "outputs": [],
   "source": [
    "import numpy as np\n",
    "import matplotlib.pyplot as plt\n",
    "%matplotlib inline"
   ]
  },
  {
   "cell_type": "code",
   "execution_count": 2,
   "metadata": {
    "collapsed": false
   },
   "outputs": [],
   "source": [
    "data = np.loadtxt(fname='MG1655 Chloramphenicol 5 Feb averages simplified sheet.csv',delimiter=',')"
   ]
  },
  {
   "cell_type": "code",
   "execution_count": 7,
   "metadata": {
    "collapsed": false
   },
   "outputs": [],
   "source": [
    "time = data[0,:]/3600"
   ]
  },
  {
   "cell_type": "code",
   "execution_count": 24,
   "metadata": {
    "collapsed": true
   },
   "outputs": [],
   "source": [
    "growth_curve = data[18,:]"
   ]
  },
  {
   "cell_type": "code",
   "execution_count": 26,
   "metadata": {
    "collapsed": false
   },
   "outputs": [
    {
     "data": {
      "text/plain": [
       "[<matplotlib.lines.Line2D at 0xd913bc9a20>]"
      ]
     },
     "execution_count": 26,
     "metadata": {},
     "output_type": "execute_result"
    },
    {
     "data": {
      "image/png": "[encoded data removed]",
      "text/plain": [
       "<matplotlib.figure.Figure at 0xd913a605f8>"
      ]
     },
     "metadata": {},
     "output_type": "display_data"
    }
   ],
   "source": [
    "plt.plot(time,np.log(growth_curve))"
   ]
  },
  {
   "cell_type": "code",
   "execution_count": 4,
   "metadata": {
    "collapsed": false
   },
   "outputs": [],
   "source": [
    "def subtractBaseline(array):\n",
    "    return array - .99*np.min(array)\n",
    "\n",
    "def windowedLineFit(x,y,start,stop):\n",
    "    m, b = np.polyfit(x[start:stop],y[start:stop],1)\n",
    "    return m, b"
   ]
  },
  {
   "cell_type": "code",
   "execution_count": 8,
   "metadata": {
    "collapsed": false
   },
   "outputs": [
    {
     "data": {
      "text/plain": [
       "array([  0.        ,   0.21972222,   0.43944444,   0.65916667,\n",
       "         0.87888889,   1.09861111,   1.31833333,   1.53805556,\n",
       "         1.75777778,   1.9775    ,   2.19722222,   2.41694444,\n",
       "         2.63638889,   2.85611111,   3.07583333,   3.29555556,\n",
       "         3.51527778,   3.735     ,   3.95472222,   4.17444444,\n",
       "         4.39416667,   4.61388889,   4.83361111,   5.05333333,\n",
       "         5.27305556,   5.49277778,   5.7125    ,   5.93222222,\n",
       "         6.15194444,   6.37166667,   6.59138889,   6.81111111,\n",
       "         7.03083333,   7.25027778,   7.47      ,   7.68972222,\n",
       "         7.90944444,   8.12916667,   8.34888889,   8.56861111,\n",
       "         8.78833333,   9.00805556,   9.22777778,   9.4475    ,\n",
       "         9.66722222,   9.88694444,  10.10666667,  10.32638889,\n",
       "        10.54611111,  10.76583333,  10.98555556,  11.20527778,\n",
       "        11.425     ,  11.64472222,  11.86444444,  12.08416667,\n",
       "        12.30388889,  12.52361111,  12.74333333,  12.96305556,\n",
       "        13.18277778,  13.4025    ,  13.62222222,  13.84194444,\n",
       "        14.06166667,  14.28138889,  14.50111111,  14.72083333,\n",
       "        14.94055556,  15.16027778,  15.38      ,  15.59972222,\n",
       "        15.81944444,  16.03916667,  16.25888889,  16.47861111,\n",
       "        16.69833333,  16.91805556,  17.13777778,  17.35722222,\n",
       "        17.57694444,  17.79666667,  18.01638889,  18.23611111,\n",
       "        18.45583333,  18.67555556,  18.89527778,  19.115     ,\n",
       "        19.33472222,  19.55444444,  19.77416667,  19.99388889,\n",
       "        20.21361111,  20.43333333,  20.65305556,  20.87277778,\n",
       "        21.0925    ,  21.33138889,  21.55111111,  21.77083333,\n",
       "        21.99055556,  22.21027778,  22.43      ,  22.64972222,\n",
       "        22.86944444,  23.08916667,  23.30888889,  23.52861111,\n",
       "        23.74833333,  23.96805556])"
      ]
     },
     "execution_count": 8,
     "metadata": {},
     "output_type": "execute_result"
    }
   ],
   "source": [
    "time"
   ]
  },
  {
   "cell_type": "code",
   "execution_count": null,
   "metadata": {
    "collapsed": true
   },
   "outputs": [],
   "source": []
  }
 ],
 "metadata": {
  "kernelspec": {
   "display_name": "Python 3",
   "language": "python",
   "name": "python3"
  },
  "language_info": {
   "codemirror_mode": {
    "name": "ipython",
    "version": 3
   },
   "file_extension": ".py",
   "mimetype": "text/x-python",
   "name": "python",
   "nbconvert_exporter": "python",
   "pygments_lexer": "ipython3",
   "version": "3.5.1"
  }
 },
 "nbformat": 4,
 "nbformat_minor": 0
}
